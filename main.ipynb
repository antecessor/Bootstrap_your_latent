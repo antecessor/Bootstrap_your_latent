{
 "cells": [
  {
   "cell_type": "code",
   "execution_count": 3,
   "metadata": {},
   "outputs": [
    {
     "name": "stdout",
     "output_type": "stream",
     "text": [
      "Requirement already satisfied: torchvision in c:\\users\\mr.mohebbian\\appdata\\local\\programs\\python\\python37\\lib\\site-packages (0.10.0)\n",
      "Requirement already satisfied: torch==1.9.0 in c:\\users\\mr.mohebbian\\appdata\\local\\programs\\python\\python37\\lib\\site-packages (from torchvision) (1.9.0)\n",
      "Requirement already satisfied: pillow>=5.3.0 in c:\\users\\mr.mohebbian\\appdata\\local\\programs\\python\\python37\\lib\\site-packages (from torchvision) (8.3.2)\n",
      "Requirement already satisfied: numpy in c:\\users\\mr.mohebbian\\appdata\\local\\programs\\python\\python37\\lib\\site-packages (from torchvision) (1.19.5)\n",
      "Requirement already satisfied: typing-extensions in c:\\users\\mr.mohebbian\\appdata\\local\\programs\\python\\python37\\lib\\site-packages (from torch==1.9.0->torchvision) (3.7.4.3)\n"
     ]
    },
    {
     "name": "stderr",
     "output_type": "stream",
     "text": [
      "WARNING: Ignoring invalid distribution -ensorflow-gpu (c:\\users\\mr.mohebbian\\appdata\\roaming\\python\\python37\\site-packages)\n",
      "WARNING: Ignoring invalid distribution -rotobuf (c:\\users\\mr.mohebbian\\appdata\\local\\programs\\python\\python37\\lib\\site-packages)\n",
      "WARNING: Ignoring invalid distribution -ensorflow-gpu (c:\\users\\mr.mohebbian\\appdata\\roaming\\python\\python37\\site-packages)\n",
      "WARNING: Ignoring invalid distribution -rotobuf (c:\\users\\mr.mohebbian\\appdata\\local\\programs\\python\\python37\\lib\\site-packages)\n",
      "WARNING: Ignoring invalid distribution -ensorflow-gpu (c:\\users\\mr.mohebbian\\appdata\\roaming\\python\\python37\\site-packages)\n",
      "WARNING: Ignoring invalid distribution -rotobuf (c:\\users\\mr.mohebbian\\appdata\\local\\programs\\python\\python37\\lib\\site-packages)\n",
      "WARNING: Ignoring invalid distribution -ensorflow-gpu (c:\\users\\mr.mohebbian\\appdata\\roaming\\python\\python37\\site-packages)\n",
      "WARNING: Ignoring invalid distribution -rotobuf (c:\\users\\mr.mohebbian\\appdata\\local\\programs\\python\\python37\\lib\\site-packages)\n",
      "WARNING: Ignoring invalid distribution -ensorflow-gpu (c:\\users\\mr.mohebbian\\appdata\\roaming\\python\\python37\\site-packages)\n",
      "WARNING: Ignoring invalid distribution -rotobuf (c:\\users\\mr.mohebbian\\appdata\\local\\programs\\python\\python37\\lib\\site-packages)\n",
      "WARNING: Ignoring invalid distribution -ensorflow-gpu (c:\\users\\mr.mohebbian\\appdata\\roaming\\python\\python37\\site-packages)\n",
      "WARNING: Ignoring invalid distribution -rotobuf (c:\\users\\mr.mohebbian\\appdata\\local\\programs\\python\\python37\\lib\\site-packages)\n",
      "WARNING: You are using pip version 21.3; however, version 21.3.1 is available.\n",
      "You should consider upgrading via the 'c:\\users\\mr.mohebbian\\appdata\\local\\programs\\python\\python37\\python.exe -m pip install --upgrade pip' command.\n"
     ]
    }
   ],
   "source": [
    "#!pip install byol-pytorch\n",
    "#!pip install torchvision"
   ]
  },
  {
   "cell_type": "code",
   "execution_count": 1,
   "metadata": {},
   "outputs": [],
   "source": [
    "import torch\n",
    "import torch.nn as nn\n",
    "from byol_pytorch import BYOL\n",
    "from torchvision import models\n",
    "import torchvision\n",
    "import torchvision.datasets as datasets\n",
    "import torchvision.transforms as transforms\n",
    "resnet = models.resnet50(pretrained=True)\n"
   ]
  },
  {
   "cell_type": "code",
   "execution_count": 2,
   "metadata": {},
   "outputs": [],
   "source": [
    "import requests\n",
    "requests.packages.urllib3.disable_warnings()\n",
    "\n",
    "import ssl\n",
    "\n",
    "try:\n",
    "    _create_unverified_https_context = ssl._create_unverified_context\n",
    "except AttributeError:\n",
    "    # Legacy Python that doesn't verify HTTPS certificates by default\n",
    "    pass\n",
    "else:\n",
    "    # Handle target environment that doesn't support HTTPS verification\n",
    "    ssl._create_default_https_context = _create_unverified_https_context"
   ]
  },
  {
   "cell_type": "code",
   "execution_count": 2,
   "metadata": {},
   "outputs": [
    {
     "name": "stderr",
     "output_type": "stream",
     "text": [
      "C:\\Users\\MR.Mohebbian\\AppData\\Local\\Programs\\Python\\Python37\\lib\\site-packages\\torch\\nn\\functional.py:718: UserWarning: Named tensors and all their associated APIs are an experimental feature and subject to change. Please do not use them for anything important until they are released as stable. (Triggered internally at  ..\\c10/core/TensorImpl.h:1156.)\n",
      "  return torch.max_pool2d(input, kernel_size, stride, padding, dilation, ceil_mode)\n"
     ]
    },
    {
     "name": "stdout",
     "output_type": "stream",
     "text": [
      "Files already downloaded and verified\n",
      "Files already downloaded and verified\n"
     ]
    }
   ],
   "source": [
    "learner = BYOL(\n",
    "    resnet,\n",
    "    image_size = 256,\n",
    "    projection_size = 10,           # the projection size\n",
    "    projection_hidden_size = 1024,   # the hidden dimension of the MLP for both the projection and prediction\n",
    "    moving_average_decay = 0.99,      # the moving average decay factor for the target encoder, already set at what paper recommends\n",
    "    hidden_layer = 'avgpool'\n",
    ")\n",
    "\n",
    "transform = transforms.Compose(\n",
    "    [transforms.ToTensor(),\n",
    "     transforms.Normalize((0.5, 0.5, 0.5), (0.5, 0.5, 0.5))])\n",
    "\n",
    "trainset = torchvision.datasets.CIFAR10(root='./data', train=True,\n",
    "                                        download=True,  transform=transform)\n",
    "trainloader = torch.utils.data.DataLoader(trainset, batch_size=2,\n",
    "                                          shuffle=True, num_workers=1)\n",
    "\n",
    "testset = torchvision.datasets.CIFAR10(root='./data', train=False,\n",
    "                                       download=True,  transform=transform)\n",
    "testloader = torch.utils.data.DataLoader(testset, batch_size=2,\n",
    "                                         shuffle=False, num_workers=1)\n",
    "opt = torch.optim.Adam(learner.parameters(), lr=3e-4)\n"
   ]
  },
  {
   "cell_type": "code",
   "execution_count": 4,
   "metadata": {},
   "outputs": [
    {
     "name": "stdout",
     "output_type": "stream",
     "text": [
      "Accuracy of the network on the 100 test images: 0 %\n"
     ]
    }
   ],
   "source": [
    "correct = 0\n",
    "total = 0\n",
    "with torch.no_grad():\n",
    "    for i, data in enumerate(testloader):\n",
    "        images, labels = data\n",
    "        outputs = resnet(images)\n",
    "        _, predicted = torch.max(outputs.data, 1)\n",
    "        total += labels.size(0)\n",
    "        correct += (predicted == labels).sum().item()\n",
    "        if i==100:\n",
    "            break\n",
    "\n",
    "print('Accuracy of the network on the 100 test images: %d %%' % (\n",
    "    100 * correct / total))"
   ]
  },
  {
   "cell_type": "code",
   "execution_count": 5,
   "metadata": {},
   "outputs": [
    {
     "name": "stdout",
     "output_type": "stream",
     "text": [
      "iteration : 0-- loss: 1.8331477642059326\n",
      "iteration : 1-- loss: 2.0722947120666504\n",
      "iteration : 2-- loss: 2.332798719406128\n",
      "iteration : 3-- loss: 1.8694794178009033\n",
      "iteration : 4-- loss: 1.8785459995269775\n",
      "iteration : 5-- loss: 1.9752558469772339\n",
      "iteration : 6-- loss: 1.4972285032272339\n",
      "iteration : 7-- loss: 1.9930981397628784\n",
      "iteration : 8-- loss: 1.999084234237671\n",
      "iteration : 9-- loss: 2.2616498470306396\n",
      "iteration : 10-- loss: 2.1406755447387695\n",
      "iteration : 11-- loss: 1.6278018951416016\n",
      "iteration : 12-- loss: 2.3324742317199707\n",
      "iteration : 13-- loss: 2.229515552520752\n",
      "iteration : 14-- loss: 1.8463784456253052\n",
      "iteration : 15-- loss: 2.3014895915985107\n",
      "iteration : 16-- loss: 2.038620948791504\n",
      "iteration : 17-- loss: 2.5905003547668457\n",
      "iteration : 18-- loss: 2.3642516136169434\n",
      "iteration : 19-- loss: 1.2921377420425415\n",
      "iteration : 20-- loss: 2.0660958290100098\n"
     ]
    }
   ],
   "source": [
    "for i, data in enumerate(trainloader, 0):\n",
    "    images, labels = data\n",
    "    loss = learner(images)\n",
    "    opt.zero_grad()\n",
    "    loss.backward()\n",
    "    opt.step()\n",
    "    learner.update_moving_average() # update moving average of target encoder\n",
    "    print(f\"iteration : {i}-- loss: {loss.item()}\")\n",
    "    if i==20:\n",
    "        break\n",
    "\n",
    "# save your improved network\n",
    "torch.save(resnet.state_dict(), './improved-net.pt')"
   ]
  },
  {
   "cell_type": "code",
   "execution_count": 6,
   "metadata": {},
   "outputs": [
    {
     "name": "stdout",
     "output_type": "stream",
     "text": [
      "Accuracy of the network on the 1000 test images: 10 %\n"
     ]
    }
   ],
   "source": [
    "correct = 0\n",
    "total = 0\n",
    "with torch.no_grad():\n",
    "    for i, data in enumerate(testloader):\n",
    "        images, labels = data\n",
    "        projection, embedding = learner(images, return_embedding = True)\n",
    "        _, predicted = torch.max(projection.data, 1)\n",
    "        total += labels.size(0)\n",
    "        correct += (predicted == labels).sum().item()\n",
    "        if i==100:\n",
    "            break\n",
    "\n",
    "print('Accuracy of the network on the 1000 test images: %d %%' % (\n",
    "    100 * correct / total))"
   ]
  }
 ],
 "metadata": {
  "interpreter": {
   "hash": "366252978e52bb2df929d3934aeb3ff29dfa67e45e575a59a0b0194f7beef5a9"
  },
  "kernelspec": {
   "display_name": "Python 3.7.4 64-bit",
   "language": "python",
   "name": "python3"
  },
  "language_info": {
   "codemirror_mode": {
    "name": "ipython",
    "version": 3
   },
   "file_extension": ".py",
   "mimetype": "text/x-python",
   "name": "python",
   "nbconvert_exporter": "python",
   "pygments_lexer": "ipython3",
   "version": "3.7.4"
  },
  "orig_nbformat": 4
 },
 "nbformat": 4,
 "nbformat_minor": 2
}
